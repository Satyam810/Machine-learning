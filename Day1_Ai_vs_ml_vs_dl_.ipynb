{
  "nbformat": 4,
  "nbformat_minor": 0,
  "metadata": {
    "colab": {
      "provenance": [],
      "authorship_tag": "ABX9TyO24vIlS2ZRxaLkcYLIhoJ2",
      "include_colab_link": true
    },
    "kernelspec": {
      "name": "python3",
      "display_name": "Python 3"
    },
    "language_info": {
      "name": "python"
    }
  },
  "cells": [
    {
      "cell_type": "markdown",
      "metadata": {
        "id": "view-in-github",
        "colab_type": "text"
      },
      "source": [
        "<a href=\"https://colab.research.google.com/github/Satyam810/Machine-learning/blob/main/Day1_Ai_vs_ml_vs_dl_.ipynb\" target=\"_parent\"><img src=\"https://colab.research.google.com/assets/colab-badge.svg\" alt=\"Open In Colab\"/></a>"
      ]
    },
    {
      "cell_type": "markdown",
      "source": [
        "Ai is a branch of cse that is concerned with building smart & inelligent Machines.\n",
        "- Ai is subset of ml.\n",
        "- Dl is subset of ml that uses ANNs to learn from the data.\n",
        "\n",
        "Ml is a technique to implement ai that can learn from the data by themselves without being explictly programmed.  \n",
        "\n",
        "TYPES OF ML:-\n",
        "\n",
        "\n",
        "1.   SL--ml algo learn from labelled data by finding pattern.\n",
        "2.   UNSL-- Unlabelled data\n",
        "\n",
        "1.   RL-- is an area of ml concerned with how intelligent agents takes actions in an environment to maximize its reward.\n",
        "\n",
        "\n",
        "Four aspect in RL\n",
        "\n",
        "\n",
        "*   Environment\n",
        "\n",
        "\n",
        "\n",
        "\n",
        "*   Agent\n",
        "*   Action\n",
        "\n",
        "*   Reward\n",
        "\n",
        "\n",
        "\n",
        "\n",
        "\n",
        "\n",
        "\n",
        "\n",
        "\n",
        "\n",
        "\n",
        "\n",
        "\n",
        "\n",
        "\n",
        "\n",
        "\n",
        "\n",
        "\n",
        "\n",
        "\n",
        "\n",
        "\n",
        "\n",
        "\n",
        "\n",
        "\n",
        "\n"
      ],
      "metadata": {
        "id": "qZIhnrTAWFSZ"
      }
    }
  ]
}